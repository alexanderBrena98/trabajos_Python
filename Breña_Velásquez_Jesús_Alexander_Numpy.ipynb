{
  "nbformat": 4,
  "nbformat_minor": 0,
  "metadata": {
    "colab": {
      "provenance": [],
      "include_colab_link": true
    },
    "kernelspec": {
      "name": "python3",
      "display_name": "Python 3"
    },
    "language_info": {
      "name": "python"
    }
  },
  "cells": [
    {
      "cell_type": "markdown",
      "metadata": {
        "id": "view-in-github",
        "colab_type": "text"
      },
      "source": [
        "<a href=\"https://colab.research.google.com/github/alexanderBrena98/trabajos_Python/blob/main/Bre%C3%B1a_Vel%C3%A1squez_Jes%C3%BAs_Alexander_Numpy.ipynb\" target=\"_parent\"><img src=\"https://colab.research.google.com/assets/colab-badge.svg\" alt=\"Open In Colab\"/></a>"
      ]
    },
    {
      "cell_type": "markdown",
      "source": [
        "## EJERCICIO"
      ],
      "metadata": {
        "id": "hwjLi42E8ah3"
      }
    },
    {
      "cell_type": "markdown",
      "source": [
        "### Ejercicio 1: Creación y Manipulación de Arreglos\n",
        "\n",
        "1. Crea un arreglo unidimensional que contenga los números del 1 al 10.\n",
        "2. Crea un arreglo bidimensional de forma \\(3 \\times 3\\) con números del 1 al 9.\n",
        "3. Utiliza el método `reshape` para convertir el arreglo unidimensional del punto 1 en un arreglo bidimensional de forma \\(2 \\times 5\\)."
      ],
      "metadata": {
        "id": "22eSbUvl8cSj"
      }
    },
    {
      "cell_type": "code",
      "source": [
        "#Ejercicio 1\n",
        "# 1\n",
        "import numpy as np\n",
        "\n",
        "arr =np.arange(1,11)\n",
        "print(arr)"
      ],
      "metadata": {
        "colab": {
          "base_uri": "https://localhost:8080/"
        },
        "id": "DTp9F1qt8i5j",
        "outputId": "435172ef-cdf7-42d3-d873-61b7d24dcd5f"
      },
      "execution_count": null,
      "outputs": [
        {
          "output_type": "stream",
          "name": "stdout",
          "text": [
            "[ 1  2  3  4  5  6  7  8  9 10]\n"
          ]
        }
      ]
    },
    {
      "cell_type": "code",
      "source": [
        "#2\n",
        "\n",
        "array1 = np.arange(1,4)\n",
        "array2 = np.arange(4,7)\n",
        "array3 = np.arange(7,10)\n",
        "print(array1)\n",
        "print(array2)\n",
        "print(array3)"
      ],
      "metadata": {
        "colab": {
          "base_uri": "https://localhost:8080/"
        },
        "id": "tihz5jIx8zQ3",
        "outputId": "4526bcf1-a846-4cf7-cb4d-2ce8883ad58d"
      },
      "execution_count": null,
      "outputs": [
        {
          "output_type": "stream",
          "name": "stdout",
          "text": [
            "[1 2 3]\n",
            "[4 5 6]\n",
            "[7 8 9]\n"
          ]
        }
      ]
    },
    {
      "cell_type": "code",
      "source": [
        "#3\n",
        "arr = np.arange(1,11)\n",
        "print(\"Array Original : \",arr,\"\\n\")\n",
        "\n",
        "\n",
        "matriz = arr.reshape(2, 5)\n",
        "print(\"Matriz:\")\n",
        "print(matriz,\"\\n\")"
      ],
      "metadata": {
        "colab": {
          "base_uri": "https://localhost:8080/"
        },
        "id": "nMKQLwPj80pC",
        "outputId": "95a334aa-f489-4c6d-9456-613e6d1ebcb6"
      },
      "execution_count": null,
      "outputs": [
        {
          "output_type": "stream",
          "name": "stdout",
          "text": [
            "Array Original :  [ 1  2  3  4  5  6  7  8  9 10] \n",
            "\n",
            "Matriz:\n",
            "[[ 1  2  3  4  5]\n",
            " [ 6  7  8  9 10]] \n",
            "\n"
          ]
        }
      ]
    },
    {
      "cell_type": "markdown",
      "source": [
        "\n",
        "### Ejercicio 2: Indexación y Slicing\n",
        "\n",
        "Dado el arreglo bidimensional:\n",
        "\n",
        "\n",
        "\\begin{pmatrix}\n",
        "1 & 2 & 3 \\\\\n",
        "4 & 5 & 6 \\\\\n",
        "7 & 8 & 9\n",
        "\\end{pmatrix}\n",
        "\n",
        "\n",
        "Realiza las siguientes operaciones:\n",
        "\n",
        "1. Extrae el número 5 de la matriz.\n",
        "2. Obtén la primera fila.\n",
        "3. Obtén la última columna.\n",
        "4. Utiliza slicing para obtener la submatriz\n",
        "\\begin{pmatrix} 5 & 6 \\\\ 8 & 9 \\end{pmatrix}"
      ],
      "metadata": {
        "id": "PJqBDNVm82T2"
      }
    },
    {
      "cell_type": "code",
      "source": [
        "#1\n",
        "array = np.array([[1,2,3],[4,5,6],[7,8,9]])\n",
        "print(\"Extracción del número 5:\",array[1][1],\"\\n\")\n",
        "#2\n",
        "print(\"Primera Fila:\", array[0],\"\\n\")\n",
        "#3\n",
        "print(\"Última Columna\")\n",
        "print(array[0:3,2:3])\n",
        "print(\"\\n\")\n",
        "#4\n",
        "print(\"Submatriz\")\n",
        "print(array[1:3,1:3])\n",
        "print(\"\\n\")"
      ],
      "metadata": {
        "colab": {
          "base_uri": "https://localhost:8080/"
        },
        "id": "oPBwJd_M84MZ",
        "outputId": "2680ef72-a4e7-4045-f67f-b92701b593be"
      },
      "execution_count": null,
      "outputs": [
        {
          "output_type": "stream",
          "name": "stdout",
          "text": [
            "Extracción del número 5: 5 \n",
            "\n",
            "Primera Fila: [1 2 3] \n",
            "\n",
            "Última Columna\n",
            "[[3]\n",
            " [6]\n",
            " [9]]\n",
            "\n",
            "\n",
            "Submatriz\n",
            "[[5 6]\n",
            " [8 9]]\n",
            "\n",
            "\n"
          ]
        }
      ]
    },
    {
      "cell_type": "markdown",
      "source": [
        "\n",
        "### Ejercicio 3: Operaciones Matemáticas\n",
        "\n",
        "1. Crea dos arreglos unidimensionales \\( A \\) y \\( B \\) de la misma longitud, llenos de números aleatorios.\n",
        "2. Calcula la suma \\( A + B \\).\n",
        "3. Calcula el producto punto \\( A \\cdot B \\).\n",
        "4. Encuentra el valor máximo en el arreglo \\( A + B \\) y su correspondiente índice.\n",
        "\n",
        "Estos ejercicios cubren las operaciones básicas de NumPy y deberían proporcionar una buena práctica para los estudiantes que están empezando."
      ],
      "metadata": {
        "id": "c7taQeU886Fh"
      }
    },
    {
      "cell_type": "code",
      "source": [
        "#1\n",
        "import numpy as np\n",
        "\n",
        "a = np.random.randint(1,20,10)\n",
        "b = np.random.randint(1,20,10)\n",
        "print(a)\n",
        "print(b)\n",
        "print(\"\\n\")\n",
        "#2\n",
        "sum= a+b\n",
        "print(\"La suma de matrices es:\",sum)\n",
        "print(\"\\n\")\n",
        "#3\n",
        "multi=a*b\n",
        "print(\"El producto de las matrices es:\",multi)\n",
        "print(\"\\n\")\n",
        "#4\n",
        "print(\"El máximo valor del arreglo a+b es:\",sum.max())\n",
        "\n",
        "indice = np.where(sum == sum.max())\n",
        "print(f'Posición sum_max:{indice}')"
      ],
      "metadata": {
        "colab": {
          "base_uri": "https://localhost:8080/"
        },
        "id": "NFtkFq8188PL",
        "outputId": "8c40bd2e-560d-4be0-b2e8-a16120f8b814"
      },
      "execution_count": null,
      "outputs": [
        {
          "output_type": "stream",
          "name": "stdout",
          "text": [
            "[ 4 18  2  6 11  3 16 15 15  8]\n",
            "[10 18 16  5  2  5  2  8 12 15]\n",
            "\n",
            "\n",
            "La suma de matrices es: [14 36 18 11 13  8 18 23 27 23]\n",
            "\n",
            "\n",
            "El producto de las matrices es: [ 40 324  32  30  22  15  32 120 180 120]\n",
            "\n",
            "\n",
            "El máximo valor del arreglo a+b es: 36\n",
            "Posición sum_max:(array([1]),)\n"
          ]
        }
      ]
    }
  ]
}